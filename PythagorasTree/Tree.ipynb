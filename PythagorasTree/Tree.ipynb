{
 "cells": [
  {
   "cell_type": "markdown",
   "metadata": {},
   "source": [
    "# Pythagoras Tree\n",
    "\n",
    "This is my implementation of the [Pythagoras Tree](https://en.wikipedia.org/wiki/Pythagoras_tree_(fractal))."
   ]
  },
  {
   "cell_type": "code",
   "execution_count": 102,
   "metadata": {
    "collapsed": false
   },
   "outputs": [],
   "source": [
    "import math\n",
    "from PIL import Image, ImageDraw\n",
    "%matplotlib inline\n",
    "import matplotlib.pyplot as plt\n",
    "import numpy\n",
    "\n",
    "pictureSide = 400\n",
    "im = Image.new('RGBA', (400, 400), (255, 255, 255, 255)) \n",
    "draw = ImageDraw.Draw(im) \n",
    "\n",
    "class LineMaker:\n",
    "    direction = 0;\n",
    "    position = (0,0)\n",
    "    pictureSide = 0\n",
    "    thickness = 0\n",
    "    \n",
    "    def __init__(self, startDirection = 0, startpos = (0,0), thickness = 1):\n",
    "        self.direction = startDirection\n",
    "        self.position = startpos\n",
    "        self.draw = ImageDraw.Draw(im)\n",
    "        self.thickness = thickness\n",
    "        \n",
    "    def forward(self, distance):\n",
    "        oldPos = (self.position[0], self.position[1])\n",
    "        xVariation = round(math.cos(math.radians(self.direction)), 10) * distance\n",
    "        yVariation = round(math.sin(math.radians(self.direction)), 10) * distance\n",
    "        self.position = (self.position[0] + xVariation, self.position[1] + yVariation)\n",
    "        self.drawPolygon(oldPos, self.position)\n",
    "        \n",
    "    #I had to write this nonsense method because PIL does not let us set line thickness.\n",
    "    def drawPolygon(self, origin, target):\n",
    "        middle = self.pictureSide/2\n",
    "\n",
    "        xVariation = round(math.sin(math.radians(self.direction)), 10) * self.thickness\n",
    "        yVariation = round(math.cos(math.radians(self.direction)), 10) * self.thickness\n",
    "        \n",
    "        draw.polygon([middle+origin[0]-xVariation, middle+(0-origin[1])-yVariation, \n",
    "                      middle+origin[0]+xVariation, middle+(0-origin[1])+yVariation, \n",
    "                      middle+(target[0])+xVariation, middle+(0-target[1])+yVariation,\n",
    "                      middle+(target[0])-xVariation, middle+(0-target[1])-yVariation], fill=0)\n",
    "    \n",
    "    def turn(self, degree):\n",
    "        self.direction = abs((self.direction + degree) % 360)\n",
    "        \n",
    "    def left(self, degree):\n",
    "        self.turn(degree)\n",
    "    \n",
    "    def right(self, degree):\n",
    "        self.turn(0-degree)"
   ]
  },
  {
   "cell_type": "code",
   "execution_count": 115,
   "metadata": {
    "collapsed": false
   },
   "outputs": [
    {
     "name": "stdout",
     "output_type": "stream",
     "text": [
      "Rendered.\n"
     ]
    }
   ],
   "source": [
    "def makeTree(iterations, position = (200,-300), direction = 90, bending = 0):\n",
    "    \n",
    "    if iterations == 0:\n",
    "        return\n",
    "    \n",
    "    myTurtle = LineMaker(startpos = position, startDirection = direction, thickness = iterations)\n",
    "    myTurtle.forward(8 * iterations)\n",
    "\n",
    "    makeTree(iterations - 1, myTurtle.position, direction - 25 + bending)\n",
    "    makeTree(iterations - 1, myTurtle.position, direction + 25 + bending)\n",
    "\n",
    "for bending in range(-20,20, 2):\n",
    "    im = Image.new('RGBA', (400, 400), (255, 255, 255, 255)) \n",
    "    draw = ImageDraw.Draw(im) \n",
    "\n",
    "    makeTree(8, bending = bending)\n",
    "\n",
    "    im.save('treePics/tree%02d.jpg' % (bending+21))\n",
    "\n",
    "print(\"Rendered.\")"
   ]
  },
  {
   "cell_type": "code",
   "execution_count": 116,
   "metadata": {
    "collapsed": false
   },
   "outputs": [
    {
     "name": "stdout",
     "output_type": "stream",
     "text": [
      "Copying done.\n"
     ]
    }
   ],
   "source": [
    "import shutil\n",
    "import os\n",
    "\n",
    "for treeFrame in range(1,40, 2):\n",
    "    curFrame = './treePics/tree%02d.jpg' % (40-treeFrame)\n",
    "    newFrame = './treePics/tree%02d.jpg' % (42+treeFrame)\n",
    "    shutil.copy(curFrame, newFrame)\n",
    "    \n",
    "print('Copying done.')"
   ]
  },
  {
   "cell_type": "code",
   "execution_count": 117,
   "metadata": {
    "collapsed": false
   },
   "outputs": [
    {
     "name": "stdout",
     "output_type": "stream",
     "text": [
      "Gif Generated\n"
     ]
    }
   ],
   "source": [
    "os.system('convert treePics/*.jpg treeAnimation.gif')\n",
    "\n",
    "print(\"Gif Generated\")"
   ]
  },
  {
   "cell_type": "code",
   "execution_count": null,
   "metadata": {
    "collapsed": true
   },
   "outputs": [],
   "source": []
  }
 ],
 "metadata": {
  "kernelspec": {
   "display_name": "Python 3",
   "language": "python",
   "name": "python3"
  },
  "language_info": {
   "codemirror_mode": {
    "name": "ipython",
    "version": 3
   },
   "file_extension": ".py",
   "mimetype": "text/x-python",
   "name": "python",
   "nbconvert_exporter": "python",
   "pygments_lexer": "ipython3",
   "version": "3.4.3"
  }
 },
 "nbformat": 4,
 "nbformat_minor": 0
}
