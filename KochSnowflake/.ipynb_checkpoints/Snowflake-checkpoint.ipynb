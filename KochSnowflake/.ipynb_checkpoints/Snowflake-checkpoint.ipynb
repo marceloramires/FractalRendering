{
 "cells": [
  {
   "cell_type": "markdown",
   "metadata": {},
   "source": [
    "# Koch Snowflake\n",
    "\n",
    "This is an implementation of the [koch snowflake](https://en.wikipedia.org/wiki/Koch_snowflake)."
   ]
  },
  {
   "cell_type": "code",
   "execution_count": 1,
   "metadata": {
    "collapsed": true
   },
   "outputs": [],
   "source": []
  },
  {
   "cell_type": "code",
   "execution_count": 8,
   "metadata": {
    "collapsed": false
   },
   "outputs": [],
   "source": [
    "import turtle\n",
    "\n",
    "koch_set = \"FRFRF\"\n",
    "iterations = 2\n",
    "\n",
    "for i in range(iterations):\n",
    "    koch_set = koch_set.replace(\"F\",\"FLFRFLF\")\n",
    "\n",
    "turtle.down()\n",
    "\n",
    "for move in koch_set:\n",
    "    if move == \"F\":\n",
    "        turtle.forward(100.0 / (3 ** (iterations - 1)))\n",
    "    elif move == \"L\":\n",
    "        turtle.left(60)\n",
    "    elif move == \"R\":\n",
    "        turtle.right(120)"
   ]
  },
  {
   "cell_type": "code",
   "execution_count": 34,
   "metadata": {
    "collapsed": false
   },
   "outputs": [],
   "source": [
    "import math\n",
    "from PIL import Image, ImageDraw\n",
    "%matplotlib inline\n",
    "from matplotlib.pyplot import imshow \n",
    "import matplotlib.pyplot as plt\n",
    "import numpy\n",
    "from IPython.display import Image as imgShow\n",
    "\n",
    "class LineMaker:\n",
    "    direction = 0;\n",
    "    position = (0,0)\n",
    "    im = None\n",
    "    draw = None\n",
    "    pictureSide = 0\n",
    "    \n",
    "    def __init__(self, startDirection = 0, startpos = (0,0), picSide = 400):\n",
    "        self.direction = startDirection\n",
    "        self.position = startpos\n",
    "        self.pictureSide = picSide\n",
    "        self.im = Image.new('RGBA', (400, 400), (255, 255, 255, 255)) \n",
    "        self.draw = ImageDraw.Draw(self.im) \n",
    "        \n",
    "    def forward(self, distance):\n",
    "        oldPos = (self.position[0], self.position[1])\n",
    "        xVariation = round(math.cos(math.radians(self.direction)), 10) * distance\n",
    "        yVariation = round(math.sin(math.radians(self.direction)), 10) * distance\n",
    "        self.position = (self.position[0] + xVariation, self.position[1] + yVariation)\n",
    "        self.drawLine(oldPos, self.position)\n",
    "        \n",
    "    def drawLine(self, origin, target):\n",
    "        middle = self.pictureSide/2\n",
    "        \n",
    "        self.draw.line((middle+origin[0],\n",
    "                        middle+(0-origin[1]), \n",
    "                        middle+(target[0]),\n",
    "                        middle+(0-target[1])), fill=0)\n",
    "    \n",
    "    def turn(self, degree):\n",
    "        self.direction = abs((self.direction + degree) % 360)\n",
    "        \n",
    "    def left(self, degree):\n",
    "        self.turn(degree)\n",
    "    \n",
    "    def right(self, degree):\n",
    "        self.turn(0-degree)\n",
    "    \n",
    "    def saveTo(self, path):\n",
    "        self.im.save(path)\n",
    "        \n",
    "    def run(self, commands):\n",
    "        for command in commands:\n",
    "            if command[0] == \"F\":\n",
    "                self.forward(command[1])\n",
    "            elif command[0] == \"L\":\n",
    "                self.left(command[1])\n",
    "            elif command[0] == \"R\":\n",
    "                self.right(command[1])\n",
    "        "
   ]
  },
  {
   "cell_type": "code",
   "execution_count": 38,
   "metadata": {
    "collapsed": false
   },
   "outputs": [
    {
     "data": {
      "image/jpeg": "[encoded data removed]",
      "text/plain": [
       "<IPython.core.display.Image object>"
      ]
     },
     "execution_count": 38,
     "metadata": {},
     "output_type": "execute_result"
    }
   ],
   "source": [
    "myTurtle = LineMaker(0, startpos = (-250,200), picSide = 600)\n",
    "\n",
    "commands = [(\"F\",300),\n",
    "            (\"R\",120),\n",
    "            (\"F\",300),\n",
    "            (\"R\",120),\n",
    "            (\"F\",300)]\n",
    "\n",
    "for num in range(3):\n",
    "    for cmd in range(len(commands)-1,-1,-1):\n",
    "        if(commands[cmd][0] == \"F\"):\n",
    "            dist = commands[cmd][1]/3\n",
    "            commands[cmd] = (\"F\", dist)\n",
    "            commands.insert(cmd, (\"L\", 60))\n",
    "            commands.insert(cmd, (\"F\", dist))\n",
    "            commands.insert(cmd, (\"R\", 120))\n",
    "            commands.insert(cmd, (\"F\", dist))\n",
    "            commands.insert(cmd, (\"L\", 60))\n",
    "            commands.insert(cmd, (\"F\", dist))\n",
    "\n",
    "myTurtle.run(commands)\n",
    "\n",
    "myTurtle.saveTo('temp.jpg')\n",
    "\n",
    "imgShow(filename='temp.jpg')"
   ]
  },
  {
   "cell_type": "code",
   "execution_count": null,
   "metadata": {
    "collapsed": true
   },
   "outputs": [],
   "source": []
  }
 ],
 "metadata": {
  "kernelspec": {
   "display_name": "Python 3",
   "language": "python",
   "name": "python3"
  },
  "language_info": {
   "codemirror_mode": {
    "name": "ipython",
    "version": 3
   },
   "file_extension": ".py",
   "mimetype": "text/x-python",
   "name": "python",
   "nbconvert_exporter": "python",
   "pygments_lexer": "ipython3",
   "version": "3.4.3"
  }
 },
 "nbformat": 4,
 "nbformat_minor": 0
}
